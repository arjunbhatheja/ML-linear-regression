{
 "cells": [
  {
   "cell_type": "markdown",
   "id": "c7b8a3d8-915d-4af6-b974-72ebaa5553f8",
   "metadata": {},
   "source": [
    "# Problem 1: Linear Regression on the D3 Dataset\n",
    "\n",
    "The goal of this notebook is to build a linear regression model using gradient descent to predict a target variable `y` based on three input features from the `D3.csv` dataset."
   ]
  },
  {
   "cell_type": "markdown",
   "id": "69e7194e-047b-45bf-8b9a-ca7f3191f6f4",
   "metadata": {},
   "source": [
    "## Step 1: Derivation and Methodology\n",
    "\n",
    "To solve this problem, I implemented a linear regression model from scratch.\n",
    "\n",
    "**1. Cost Function:** I used the Mean Squared Error (MSE) as the cost function, $J(\\theta)$. This function measures the average squared difference between our model's predictions and the actual data, which we aim to minimize.\n",
    "\n",
    "$$J(\\theta) = \\frac{1}{2m} \\sum_{i=1}^{m} (h_{\\theta}(x^{(i)}) - y^{(i)})^2$$\n",
    "\n",
    "**2. Hypothesis:** The model's prediction is made using the following linear equation:\n",
    "\n",
    "$$h_{\\theta}(x) = \\theta_0 + \\theta_1 x_1 + \\theta_2 x_2 + \\theta_3 x_3$$\n",
    "\n",
    "**3. Gradient Descent:** To find the optimal $\\theta$ parameters that minimize the cost, I used the gradient descent algorithm. In each iteration, the parameters are updated simultaneously using the following rule, where $\\alpha$ is the learning rate:\n",
    "\n",
    "$$\\theta_j := \\theta_j - \\alpha \\frac{1}{m} \\sum_{i=1}^{m} (h_{\\theta}(x^{(i)}) - y^{(i)}) x_j^{(i)}$$\n",
    "\n",
    "**4. Preprocessing:** Before training, I standardized the features by subtracting the mean and dividing by the standard deviation. This ensures all features are on a similar scale, which helps gradient descent converge faster.\n"
   ]
  },
  {
   "cell_type": "code",
   "execution_count": 4,
   "id": "120f7394-da8f-4aff-80a3-5f0885851479",
   "metadata": {},
   "outputs": [
    {
     "name": "stderr",
     "output_type": "stream",
     "text": [
      "Matplotlib is building the font cache; this may take a moment.\n"
     ]
    },
    {
     "name": "stdout",
     "output_type": "stream",
     "text": [
      "Final coefficients: [ 5.31416717 -2.00371927  0.53256334 -0.26560187]\n"
     ]
    },
    {
     "data": {
      "image/png": "[encoded data removed]",
      "text/plain": [
       "<Figure size 640x480 with 1 Axes>"
      ]
     },
     "metadata": {},
     "output_type": "display_data"
    },
    {
     "name": "stdout",
     "output_type": "stream",
     "text": [
      "Predictions: [3.57740937 0.24432117 0.10253417]\n"
     ]
    }
   ],
   "source": [
    "import numpy as np\n",
    "import pandas as pd\n",
    "import matplotlib.pyplot as plt\n",
    "\n",
    "# Load dataset\n",
    "data = pd.read_csv(\"D3.csv\", header=None)\n",
    "X = data.iloc[:, :-1].values  # First 3 columns as features\n",
    "y = data.iloc[:, -1].values   # Fourth column as target\n",
    "m = len(y)\n",
    "\n",
    "# Standardize features\n",
    "X_mean, X_std = X.mean(axis=0), X.std(axis=0)\n",
    "X_scaled = (X - X_mean) / X_std\n",
    "\n",
    "# Add bias column\n",
    "X_b = np.c_[np.ones((m, 1)), X_scaled]\n",
    "\n",
    "# Gradient descent settings\n",
    "alpha = 0.01\n",
    "iterations = 20000\n",
    "theta = np.zeros(X_b.shape[1])\n",
    "loss_history = []\n",
    "\n",
    "# Gradient descent\n",
    "for it in range(iterations):\n",
    "    prediction = X_b.dot(theta)\n",
    "    error = prediction - y\n",
    "    cost = (1 / (2 * m)) * np.sum(error ** 2)\n",
    "    loss_history.append(cost)\n",
    "    gradient = (1 / m) * X_b.T.dot(error)\n",
    "    theta -= alpha * gradient\n",
    "\n",
    "# Convert back to original feature scale\n",
    "theta_orig = np.zeros_like(theta)\n",
    "theta_orig[1:] = theta[1:] / X_std\n",
    "theta_orig[0] = theta[0] - np.sum((X_mean / X_std) * theta[1:])\n",
    "\n",
    "print(\"Final coefficients:\", theta_orig)\n",
    "\n",
    "# Plot cost function\n",
    "plt.plot(loss_history)\n",
    "plt.xlabel(\"Iteration\")\n",
    "plt.ylabel(\"Cost J(θ)\")\n",
    "plt.title(\"Convergence of Gradient Descent\")\n",
    "plt.show()\n",
    "\n",
    "# Predictions\n",
    "X_new = np.array([[1,1,1], [2,0,4], [3,2,1]])\n",
    "y_pred = theta_orig[0] + X_new.dot(theta_orig[1:])\n",
    "print(\"Predictions:\", y_pred)"
   ]
  },
  {
   "cell_type": "markdown",
   "id": "8d08edd8",
   "metadata": {},
   "source": [
    "## Closed-Form Solution (Normal Equation) & Verification\n",
    "\n",
    "To verify our gradient descent results, we compute the closed-form solution (normal equation) and compare the coefficients. If both methods are correct, the results should match closely."
   ]
  },
  {
   "cell_type": "code",
   "execution_count": 5,
   "id": "426f7f1e",
   "metadata": {},
   "outputs": [
    {
     "name": "stdout",
     "output_type": "stream",
     "text": [
      "Closed-form coefficients: [ 5.31416717 -2.00371927  0.53256334 -0.26560187]\n",
      "Gradient descent coefficients: [ 5.31416717 -2.00371927  0.53256334 -0.26560187]\n",
      "Difference: [ 2.66453526e-14 -1.82076576e-14  5.32907052e-15  5.10702591e-15]\n"
     ]
    }
   ],
   "source": [
    "# Closed-form solution (normal equation)\n",
    "# Use the original (non-scaled) data for normal equation\n",
    "X_bias = np.c_[np.ones(X.shape[0]), X]\n",
    "\n",
    "# Normal equation: theta = (X^T * X)^(-1) * X^T * y\n",
    "# Breaking it down:\n",
    "# 1. X_bias.T @ X_bias = X^T * X (matrix multiplication)\n",
    "# 2. np.linalg.inv() = inverse of the matrix\n",
    "# 3. @ X_bias.T @ y = multiply by X^T and then by y\n",
    "theta_closed = np.linalg.inv(X_bias.T @ X_bias) @ X_bias.T @ y\n",
    "print(\"Closed-form coefficients:\", theta_closed)\n",
    "\n",
    "# Compare with gradient descent results\n",
    "print(\"Gradient descent coefficients:\", theta_orig)\n",
    "print(\"Difference:\", theta_closed - theta_orig)"
   ]
  },
  {
   "cell_type": "markdown",
   "id": "2c56c092",
   "metadata": {},
   "source": [
    "**Verification:**\n",
    "\n",
    "The coefficients from both methods match very closely (differences are very small due to numerical precision), confirming that the gradient descent implementation is correct."
   ]
  },
  {
   "cell_type": "markdown",
   "id": "06888ee6",
   "metadata": {},
   "source": [
    "## Step 3: Final Answers\n",
    "\n",
    "**Fitted Linear Model:**  \n",
    "$\\hat{y} = \\theta_0 + \\theta_1 x_1 + \\theta_2 x_2 + \\theta_3 x_3$\n",
    "\n",
    "**Coefficients:**  \n",
    "$\\theta_0 = 5.31$  \n",
    "$\\theta_1 = -2.00$  \n",
    "$\\theta_2 = 0.53$  \n",
    "$\\theta_3 = -0.27$\n",
    "\n",
    "**Predictions:**  \n",
    "- For (1, 1, 1): $3.58$  \n",
    "- For (2, 0, 4): $0.24$  \n",
    "- For (3, 2, 1): $0.10$\n",
    "\n",
    "*(Values rounded to two decimal places for clarity. The full precision values are shown in the code output above.)*"
   ]
  },
  {
   "cell_type": "markdown",
   "id": "b9cc4199-2850-4edf-ac8d-41bf42c50380",
   "metadata": {},
   "source": [
    "---\n",
    "\n",
    "## AI Use Note:\n",
    "\n",
    "AI assistance (GitHub Copilot) was used to help write Python syntax for Step 1 (data loading, preprocessing) and Step 3 (final answers, predictions), as well as for generating some code comments and markdown explanations. It was also used to check if my mathematical derivations and implementations were correct. All code was reviewed and run by me to ensure understanding and correctness."
   ]
  }
 ],
 "metadata": {
  "kernelspec": {
   "display_name": "Python 3 (ipykernel)",
   "language": "python",
   "name": "python3"
  },
  "language_info": {
   "codemirror_mode": {
    "name": "ipython",
    "version": 3
   },
   "file_extension": ".py",
   "mimetype": "text/x-python",
   "name": "python",
   "nbconvert_exporter": "python",
   "pygments_lexer": "ipython3",
   "version": "3.12.4"
  }
 },
 "nbformat": 4,
 "nbformat_minor": 5
}
