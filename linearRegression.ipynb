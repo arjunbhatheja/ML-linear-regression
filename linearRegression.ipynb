{
 "cells": [
  {
   "cell_type": "markdown",
   "id": "c7b8a3d8-915d-4af6-b974-72ebaa5553f8",
   "metadata": {},
   "source": [
    "# Problem 1: Linear Regression on the D3 Dataset\n",
    "\n",
    "The goal of this notebook is to build a linear regression model using gradient descent to predict a target variable `y` based on three input features from the `D3.csv` dataset."
   ]
  },
  {
   "cell_type": "markdown",
   "id": "69e7194e-047b-45bf-8b9a-ca7f3191f6f4",
   "metadata": {},
   "source": [
    "## Step 1: Derivation and Methodology\n",
    "\n",
    "To solve this problem, I implemented a linear regression model from scratch.\n",
    "\n",
    "**1. Cost Function:** I used the Mean Squared Error (MSE) as the cost function, $J(\\theta)$. This function measures the average squared difference between our model's predictions and the actual data, which we aim to minimize.\n",
    "\n",
    "$$J(\\theta) = \\frac{1}{2m} \\sum_{i=1}^{m} (h_{\\theta}(x^{(i)}) - y^{(i)})^2$$\n",
    "\n",
    "**2. Hypothesis:** The model's prediction is made using the following linear equation:\n",
    "\n",
    "$$h_{\\theta}(x) = \\theta_0 + \\theta_1 x_1 + \\theta_2 x_2 + \\theta_3 x_3$$\n",
    "\n",
    "**3. Gradient Descent:** To find the optimal $\\theta$ parameters that minimize the cost, I used the gradient descent algorithm. In each iteration, the parameters are updated simultaneously using the following rule, where $\\alpha$ is the learning rate:\n",
    "\n",
    "$$\\theta_j := \\theta_j - \\alpha \\frac{1}{m} \\sum_{i=1}^{m} (h_{\\theta}(x^{(i)}) - y^{(i)}) x_j^{(i)}$$\n",
    "\n",
    "**4. Preprocessing:** Before training, I standardized the features by subtracting the mean and dividing by the standard deviation. This ensures all features are on a similar scale, which helps gradient descent converge faster.\n"
   ]
  },
  {
   "cell_type": "code",
   "execution_count": 19,
   "id": "120f7394-da8f-4aff-80a3-5f0885851479",
   "metadata": {},
   "outputs": [
    {
     "name": "stdout",
     "output_type": "stream",
     "text": [
      "Final coefficients: [ 5.31416717 -2.00371927  0.53256334 -0.26560187]\n"
     ]
    },
    {
     "data": {
      "image/png": "[encoded data removed]",
      "text/plain": [
       "<Figure size 640x480 with 1 Axes>"
      ]
     },
     "metadata": {},
     "output_type": "display_data"
    },
    {
     "name": "stdout",
     "output_type": "stream",
     "text": [
      "Predictions: [3.57740937 0.24432117 0.10253417]\n"
     ]
    }
   ],
   "source": [
    "import numpy as np\n",
    "import pandas as pd\n",
    "import matplotlib.pyplot as plt\n",
    "\n",
    "# Load dataset\n",
    "data = pd.read_csv(\"D3.csv\", header=None)\n",
    "X = data.iloc[:, :-1].values  # First 3 columns as features\n",
    "y = data.iloc[:, -1].values   # Fourth column as target\n",
    "m = len(y)\n",
    "\n",
    "# Standardize features\n",
    "X_mean, X_std = X.mean(axis=0), X.std(axis=0)\n",
    "X_scaled = (X - X_mean) / X_std\n",
    "\n",
    "# Add bias column\n",
    "X_b = np.c_[np.ones((m, 1)), X_scaled]\n",
    "\n",
    "# Gradient descent settings\n",
    "alpha = 0.01\n",
    "iterations = 20000\n",
    "theta = np.zeros(X_b.shape[1])\n",
    "loss_history = []\n",
    "\n",
    "# Gradient descent\n",
    "for it in range(iterations):\n",
    "    prediction = X_b.dot(theta)\n",
    "    error = prediction - y\n",
    "    cost = (1 / (2 * m)) * np.sum(error ** 2)\n",
    "    loss_history.append(cost)\n",
    "    gradient = (1 / m) * X_b.T.dot(error)\n",
    "    theta -= alpha * gradient\n",
    "\n",
    "# Convert back to original feature scale\n",
    "theta_orig = np.zeros_like(theta)\n",
    "theta_orig[1:] = theta[1:] / X_std\n",
    "theta_orig[0] = theta[0] - np.sum((X_mean / X_std) * theta[1:])\n",
    "\n",
    "print(\"Final coefficients:\", theta_orig)\n",
    "\n",
    "# Plot cost function\n",
    "plt.plot(loss_history)\n",
    "plt.xlabel(\"Iteration\")\n",
    "plt.ylabel(\"Cost J(θ)\")\n",
    "plt.title(\"Convergence of Gradient Descent\")\n",
    "plt.show()\n",
    "\n",
    "# Predictions\n",
    "X_new = np.array([[1,1,1], [2,0,4], [3,2,1]])\n",
    "y_pred = theta_orig[0] + X_new.dot(theta_orig[1:])\n",
    "print(\"Predictions:\", y_pred)"
   ]
  },
  {
   "cell_type": "markdown",
   "id": "8d08edd8",
   "metadata": {},
   "source": [
    "## Closed-Form Solution (Normal Equation) & Verification\n",
    "\n",
    "To verify our gradient descent results, we compute the closed-form solution (normal equation) and compare the coefficients. If both methods are correct, the results should match closely."
   ]
  },
  {
   "cell_type": "code",
   "execution_count": 22,
   "id": "426f7f1e",
   "metadata": {},
   "outputs": [
    {
     "name": "stdout",
     "output_type": "stream",
     "text": [
      "Closed-form coefficients: [ 5.31416717 -2.00371927  0.53256334 -0.26560187]\n",
      "Gradient descent coefficients: [ 5.31416717 -2.00371927  0.53256334 -0.26560187]\n",
      "Difference: [ 1.77635684e-14 -1.95399252e-14  8.88178420e-15  7.32747196e-15]\n"
     ]
    }
   ],
   "source": [
    "# Closed-form solution (normal equation)\n",
    "# Use the original (non-scaled) data for normal equation\n",
    "X_bias = np.c_[np.ones(X.shape[0]), X]\n",
    "\n",
    "# Normal equation: theta = (X^T * X)^(-1) * X^T * y\n",
    "# 1. X_bias.T @ X_bias = X^T * X (matrix multiplication)\n",
    "# 2. np.linalg.inv() = inverse of the matrix\n",
    "# 3. @ X_bias.T @ y = multiply by X^T and then by y\n",
    "theta_closed = np.linalg.inv(X_bias.T @ X_bias) @ X_bias.T @ y\n",
    "print(\"Closed-form coefficients:\", theta_closed)\n",
    "\n",
    "# Comparing with gradient descent results\n",
    "print(\"Gradient descent coefficients:\", theta_orig)\n",
    "print(\"Difference:\", theta_closed - theta_orig)"
   ]
  },
  {
   "cell_type": "markdown",
   "id": "2c56c092",
   "metadata": {},
   "source": [
    "**Verification:**\n",
    "\n",
    "The coefficients from both methods match very closely (differences are very small due to numerical precision), confirming that the gradient descent implementation is correct."
   ]
  },
  {
   "cell_type": "markdown",
   "id": "06888ee6",
   "metadata": {},
   "source": [
    "## Step 3: Final Answers\n",
    "\n",
    "**Fitted Linear Model:**  \n",
    "$\\hat{y} = \\theta_0 + \\theta_1 x_1 + \\theta_2 x_2 + \\theta_3 x_3$\n",
    "\n",
    "**Coefficients:**  \n",
    "$\\theta_0 = 5.31$  \n",
    "$\\theta_1 = -2.00$  \n",
    "$\\theta_2 = 0.53$  \n",
    "$\\theta_3 = -0.27$\n",
    "\n",
    "**Predictions:**  \n",
    "- For (1, 1, 1): $3.58$  \n",
    "- For (2, 0, 4): $0.24$  \n",
    "- For (3, 2, 1): $0.10$\n",
    "\n",
    "*(Values rounded to two decimal places for clarity. The full precision values are shown in the code output above.)*"
   ]
  },
  {
   "cell_type": "markdown",
   "id": "81fff0d0-e9ea-41d7-8f7f-eeb9934f4d32",
   "metadata": {},
   "source": [
    "## Problem 2: Predicting the money a visitor will spend"
   ]
  },
  {
   "cell_type": "markdown",
   "id": "87a63ddf",
   "metadata": {},
   "source": [
    "### Step 1: Derivation and Explanation\n",
    "\n",
    "**1. Model in Matrix Form:**\n",
    "\n",
    "The linear regression model can be written as:\n",
    "$$y = X\\theta + \\epsilon$$\n",
    "\n",
    "Where:\n",
    "- $y$ is the vector of sales (n × 1)\n",
    "- $X$ is the design matrix with intercept column (n × 4): $[1, x_1, x_2, x_3]$\n",
    "- $\\theta$ is the parameter vector (4 × 1): $[\\theta_0, \\theta_1, \\theta_2, \\theta_3]^T$\n",
    "- $\\epsilon$ is the error vector\n",
    "\n",
    "**2. MSE Objective Function:**\n",
    "\n",
    "We want to minimize the Mean Squared Error:\n",
    "$$J(\\theta) = \\frac{1}{2m}\\|y - X\\theta\\|^2 = \\frac{1}{2m}(y - X\\theta)^T(y - X\\theta)$$\n",
    "\n",
    "**3. Normal Equation Derivation:**\n",
    "\n",
    "To find the minimum, we take the derivative with respect to $\\theta$ and set it to zero:\n",
    "$$\\frac{\\partial J}{\\partial \\theta} = \\frac{1}{m}X^T(X\\theta - y) = 0$$\n",
    "\n",
    "Solving for $\\theta$:\n",
    "$$X^TX\\theta = X^Ty$$\n",
    "$$\\theta = (X^TX)^{-1}X^Ty$$\n",
    "\n",
    "This is the **normal equation** that gives us the closed-form solution."
   ]
  },
  {
   "cell_type": "markdown",
   "id": "817189a2",
   "metadata": {},
   "source": [
    "### Step 2: Code Implementation"
   ]
  },
  {
   "cell_type": "code",
   "execution_count": 29,
   "id": "37ceabbe",
   "metadata": {},
   "outputs": [
    {
     "name": "stdout",
     "output_type": "stream",
     "text": [
      "Design Matrix X contains:\n",
      "- Column 1: All 1's)\n",
      "- Column 2: Time values (x₁)\n",
      "- Column 3: Jiggle values (x₂)\n",
      "- Column 4: Scroll values (x₃)\n",
      "\n",
      "Design Matrix X:\n",
      "     Intercept  Time    Jiggle  Scroll\n",
      "Row  1: [   1         232        33       402]\n",
      "Row  2: [   1          10        22       160]\n",
      "Row  3: [   1        6437       343       231]\n",
      "Row  4: [   1         512       101        17]\n",
      "Row  5: [   1         441       212        55]\n",
      "Row  6: [   1         453        53        99]\n",
      "Row  7: [   1           2         2        10]\n",
      "Row  8: [   1         332        79       154]\n",
      "Row  9: [   1         182        20        89]\n",
      "Row 10: [   1         123       223        12]\n",
      "Row 11: [   1         424        32        15]\n",
      "\n",
      "θ₀ (intercept): 2626.268614\n",
      "θ₁ (time):        0.420484\n",
      "θ₂ (jiggle):     12.716237\n",
      "θ₃ (scroll):     -6.496562\n",
      "\n",
      "Verification with other methods: \n",
      "Using lstsq:\n",
      "  θ₀: 2626.268614\n",
      "  θ₁:   0.420484\n",
      "  θ₂:  12.716237\n",
      "  θ₃:  -6.496562\n",
      "Using pinv:\n",
      "  θ₀: 2626.268614\n",
      "  θ₁:   0.420484\n",
      "  θ₂:  12.716237\n",
      "  θ₃:  -6.496562\n"
     ]
    }
   ],
   "source": [
    "import numpy as np\n",
    "\n",
    "# time (x1), jiggle (x2), scroll (x3), sales (y)\n",
    "data = np.array([\n",
    "    [232, 33, 402, 2201],\n",
    "    [10, 22, 160, 0],\n",
    "    [6437, 343, 231, 7650],\n",
    "    [512, 101, 17, 5599],\n",
    "    [441, 212, 55, 8900],\n",
    "    [453, 53, 99, 1742],\n",
    "    [2, 2, 10, 0],\n",
    "    [332, 79, 154, 1215],\n",
    "    [182, 20, 89, 699],\n",
    "    [123, 223, 12, 2101],\n",
    "    [424, 32, 15, 8789]\n",
    "])\n",
    "\n",
    "X_features = data[:, :3]  # First 3 columns: time, jiggle, scroll\n",
    "y = data[:, 3]           # Last column: sales\n",
    "\n",
    "# X = [1, x1, x2, x3] for each row\n",
    "n = len(y)\n",
    "X = np.c_[np.ones(n), X_features]  # Add column of ones\n",
    "\n",
    "print(\"Design Matrix X contains:\")\n",
    "print(\"- Column 1: All 1's)\")\n",
    "print(\"- Column 2: Time values (x₁)\")  \n",
    "print(\"- Column 3: Jiggle values (x₂)\")\n",
    "print(\"- Column 4: Scroll values (x₃)\")\n",
    "print()\n",
    "\n",
    "print(\"Design Matrix X:\")\n",
    "print(\"     Intercept  Time    Jiggle  Scroll\")\n",
    "for i in range(n):\n",
    "    print(f\"Row {i+1:2d}: [{X[i,0]:4.0f}      {X[i,1]:6.0f}    {X[i,2]:6.0f}    {X[i,3]:6.0f}]\")\n",
    "\n",
    "print()\n",
    "\n",
    "theta = np.linalg.inv(X.T @ X) @ X.T @ y\n",
    "\n",
    "print(f\"θ₀ (intercept): {theta[0]:10.6f}\")\n",
    "print(f\"θ₁ (time):      {theta[1]:10.6f}\")\n",
    "print(f\"θ₂ (jiggle):    {theta[2]:10.6f}\")\n",
    "print(f\"θ₃ (scroll):    {theta[3]:10.6f}\")\n",
    "\n",
    "# Alternative methods for verification\n",
    "print(f\"\\nVerification with other methods: \")\n",
    "\n",
    "# Method 2: Using np.linalg.lstsq\n",
    "theta_lstsq, _, _, _ = np.linalg.lstsq(X, y, rcond=None)\n",
    "print(f\"Using lstsq:\")\n",
    "print(f\"  θ₀: {theta_lstsq[0]:10.6f}\")\n",
    "print(f\"  θ₁: {theta_lstsq[1]:10.6f}\")  \n",
    "print(f\"  θ₂: {theta_lstsq[2]:10.6f}\")\n",
    "print(f\"  θ₃: {theta_lstsq[3]:10.6f}\")\n",
    "\n",
    "# Method 3: Using pseudoinverse\n",
    "theta_pinv = np.linalg.pinv(X) @ y\n",
    "print(f\"Using pinv:\")\n",
    "print(f\"  θ₀: {theta_pinv[0]:10.6f}\")\n",
    "print(f\"  θ₁: {theta_pinv[1]:10.6f}\")  \n",
    "print(f\"  θ₂: {theta_pinv[2]:10.6f}\")\n",
    "print(f\"  θ₃: {theta_pinv[3]:10.6f}\")"
   ]
  },
  {
   "cell_type": "markdown",
   "id": "e586867a",
   "metadata": {},
   "source": [
    "### Step 3: Final Answers\n",
    "\n",
    "**Fitted Model:**\n",
    "$$\\hat{y} = 2626.268614 + 0.420484 \\cdot \\text{time} + 12.716237 \\cdot \\text{jiggle} + -6.496562 \\cdot \\text{scroll}$$\n",
    "\n",
    "**Learned Parameters:**\n",
    "- θ₀ (intercept): 2626.268614\n",
    "- θ₁ (time coefficient): 0.420484 \n",
    "- θ₂ (jiggle coefficient): 12.716237\n",
    "- θ₃ (scroll coefficient): -6.496562\n",
    "\n",
    "**Interpretation:**\n",
    "- The intercept θ₀ represents the baseline spending when all variables are zero\n",
    "- θ₁ shows how spending changes per additional second on the page\n",
    "- θ₂ shows how spending changes per additional cm of mouse movement  \n",
    "- θ₃ shows how spending changes per additional cm of scrolling"
   ]
  },
  {
   "cell_type": "markdown",
   "id": "b9cc4199-2850-4edf-ac8d-41bf42c50380",
   "metadata": {},
   "source": [
    "---\n",
    "\n",
    "## AI Use Note:\n",
    "\n",
    "AI assistance (GitHub Copilot) was used to help write Python syntax for Step 1 (data loading, preprocessing) and Step 3 (final answers, predictions), as well as for generating some code comments and markdown explanations. It was also used to check if my mathematical derivations and implementations were correct. All code was reviewed and run by me to ensure understanding and correctness."
   ]
  }
 ],
 "metadata": {
  "kernelspec": {
   "display_name": ".venv",
   "language": "python",
   "name": "python3"
  },
  "language_info": {
   "codemirror_mode": {
    "name": "ipython",
    "version": 3
   },
   "file_extension": ".py",
   "mimetype": "text/x-python",
   "name": "python",
   "nbconvert_exporter": "python",
   "pygments_lexer": "ipython3",
   "version": "3.13.5"
  }
 },
 "nbformat": 4,
 "nbformat_minor": 5
}
